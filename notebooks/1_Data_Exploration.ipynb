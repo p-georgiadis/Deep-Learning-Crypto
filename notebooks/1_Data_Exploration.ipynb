{
 "cells": [
  {
   "cell_type": "markdown",
   "id": "a6c4c6a5-7f54-49d9-bc22-a706b3eb435d",
   "metadata": {},
   "source": [
    "# Cryptocurrency Data Exploration\n",
    "\n",
    "This notebook performs initial data analysis and visualization of cryptocurrency data.\n",
    "\n",
    "## Contents\n",
    "1. Data Loading and Initial Inspection\n",
    "2. Data Quality Assessment\n",
    "3. Basic Statistical Analysis\n",
    "4. Price Movement Analysis\n",
    "5. Volume Analysis\n",
    "6. Correlation Studies\n"
   ]
  },
  {
   "cell_type": "code",
   "execution_count": null,
   "id": "e6609086-de7b-4c10-b3ea-d61afc3bc45d",
   "metadata": {},
   "outputs": [],
   "source": [
    "# Import required libraries\n",
    "import pandas as pd\n",
    "import numpy as np\n",
    "import plotly.graph_objects as go\n",
    "from plotly.subplots import make_subplots\n",
    "import seaborn as sns\n",
    "import matplotlib.pyplot as plt\n",
    "from datetime import datetime, timedelta\n",
    "\n",
    "# Set display options\n",
    "pd.set_option('display.max_columns', None)\n",
    "pd.set_option('display.max_rows', 100)\n"
   ]
  },
  {
   "cell_type": "markdown",
   "id": "9f413278-547f-4875-979e-78930075482b",
   "metadata": {},
   "source": [
    "## 1. Data Loading and Initial Inspection\n"
   ]
  },
  {
   "cell_type": "code",
   "execution_count": null,
   "id": "eb615b2f-285a-4d46-ab20-24099d0bd023",
   "metadata": {},
   "outputs": [],
   "source": [
    "## Load data using our data collector\n",
    "from src.data_collection.data_collector import DataCollector\n",
    "\n",
    "async def load_data():\n",
    "    collector = DataCollector(coins=['bitcoin'])\n",
    "    data = await collector.collect_all_data()\n",
    "    return data\n",
    "\n",
    "# Call the async function and retrieve data\n",
    "import asyncio\n",
    "data = asyncio.run(load_data())\n",
    "\n",
    "# Display first few rows\n",
    "data['bitcoin']['binance'].head()\n"
   ]
  },
  {
   "cell_type": "markdown",
   "id": "bd6827b2-bd6c-43fc-b2cf-08ff7db3ec46",
   "metadata": {},
   "source": [
    "## 2. Data Quality Assessment\n"
   ]
  },
  {
   "cell_type": "code",
   "execution_count": null,
   "id": "bfa1166f-d733-4d56-914a-0e185d4e2141",
   "metadata": {},
   "outputs": [],
   "source": [
    "def assess_data_quality(df):\n",
    "    \"\"\"Assess data quality metrics\"\"\"\n",
    "    quality_report = {\n",
    "        'missing_values': df.isnull().sum(),\n",
    "        'duplicates': df.duplicated().sum(),\n",
    "        'data_types': df.dtypes,\n",
    "        'unique_values': df.nunique(),\n",
    "        'memory_usage': df.memory_usage(deep=True)\n",
    "    }\n",
    "    return pd.DataFrame(quality_report)\n",
    "\n",
    "quality_assessment = assess_data_quality(data['bitcoin']['binance'])\n",
    "quality_assessment\n"
   ]
  },
  {
   "cell_type": "markdown",
   "id": "d9547747-e000-474c-9722-54b51de2c69d",
   "metadata": {},
   "source": [
    "## 3. Basic Statistical Analysis\n"
   ]
  },
  {
   "cell_type": "code",
   "execution_count": null,
   "id": "b702a671-27c4-4e6c-817a-978c411b109d",
   "metadata": {},
   "outputs": [],
   "source": [
    "# Calculate basic statistics\n",
    "df = data['bitcoin']['binance']\n",
    "stats = df.describe()\n",
    "\n",
    "# Calculate additional metrics\n",
    "stats.loc['skew'] = df.skew()\n",
    "stats.loc['kurtosis'] = df.kurtosis()\n",
    "\n",
    "stats\n"
   ]
  },
  {
   "cell_type": "markdown",
   "id": "30762e10-613b-44f7-b542-3d5cf23a9079",
   "metadata": {},
   "source": [
    "## 4. Price Movement Analysis\n"
   ]
  },
  {
   "cell_type": "code",
   "execution_count": null,
   "id": "20d5caa6-3e7d-4225-81ef-7280eef4e230",
   "metadata": {},
   "outputs": [],
   "source": [
    "def plot_price_analysis(df):\n",
    "    \"\"\"Plot price movement analysis\"\"\"\n",
    "    fig = make_subplots(rows=2, cols=1, shared_xaxis=True)\n",
    "    \n",
    "    # Candlestick chart\n",
    "    fig.add_trace(\n",
    "        go.Candlestick(\n",
    "            x=df.index,\n",
    "            open=df['open'],\n",
    "            high=df['high'],\n",
    "            low=df['low'],\n",
    "            close=df['close']\n",
    "        ),\n",
    "        row=1, col=1\n",
    "    )\n",
    "    \n",
    "    # Daily returns\n",
    "    daily_returns = df['close'].pct_change()\n",
    "    fig.add_trace(\n",
    "        go.Scatter(x=df.index, y=daily_returns, name='Daily Returns'),\n",
    "        row=2, col=1\n",
    "    )\n",
    "    \n",
    "    fig.update_layout(height=800, title='Price Movement Analysis')\n",
    "    return fig\n",
    "\n",
    "fig = plot_price_analysis(df)\n",
    "fig.show()\n"
   ]
  },
  {
   "cell_type": "markdown",
   "id": "2c770364-153e-4c7f-8451-680b13ce40b4",
   "metadata": {},
   "source": [
    "## 5. Volume Analysis\n"
   ]
  },
  {
   "cell_type": "code",
   "execution_count": null,
   "id": "c0e564de-1f96-4b60-8db4-45adadf34cbe",
   "metadata": {},
   "outputs": [],
   "source": [
    "def analyze_volume(df):\n",
    "    \"\"\"Analyze trading volume patterns\"\"\"\n",
    "    fig = make_subplots(rows=2, cols=1)\n",
    "    \n",
    "    # Volume over time\n",
    "    fig.add_trace(\n",
    "        go.Bar(x=df.index, y=df['volume'], name='Volume'),\n",
    "        row=1, col=1\n",
    "    )\n",
    "    \n",
    "    # Volume moving average\n",
    "    volume_ma = df['volume'].rolling(window=20).mean()\n",
    "    fig.add_trace(\n",
    "        go.Scatter(x=df.index, y=volume_ma, name='Volume MA20'),\n",
    "        row=1, col=1\n",
    "    )\n",
    "    \n",
    "    # Volume-price correlation\n",
    "    fig.add_trace(\n",
    "        go.Scatter(\n",
    "            x=df['close'],\n",
    "            y=df['volume'],\n",
    "            mode='markers',\n",
    "            name='Volume vs Price'\n",
    "        ),\n",
    "        row=2, col=1\n",
    "    )\n",
    "    \n",
    "    fig.update_layout(height=800, title='Volume Analysis')\n",
    "    return fig\n",
    "\n",
    "fig = analyze_volume(df)\n",
    "fig.show()\n"
   ]
  },
  {
   "cell_type": "markdown",
   "id": "0d4dd24c-f895-494c-b3a9-3111d1c9384b",
   "metadata": {},
   "source": [
    "## 6. Correlation Studies\n"
   ]
  },
  {
   "cell_type": "code",
   "execution_count": null,
   "id": "d9c68f41-6c96-41db-afe3-e3fcc6aa2253",
   "metadata": {},
   "outputs": [],
   "source": [
    "# Calculate correlation matrix\n",
    "corr_matrix = df.corr()\n",
    "\n",
    "# Plot correlation heatmap\n",
    "plt.figure(figsize=(10, 8))\n",
    "sns.heatmap(corr_matrix, annot=True, cmap='coolwarm', center=0)\n",
    "plt.title('Feature Correlation Matrix')\n",
    "plt.show()\n"
   ]
  }
 ],
 "metadata": {
  "kernelspec": {
   "display_name": "Python 3 (ipykernel)",
   "language": "python",
   "name": "python3"
  },
  "language_info": {
   "codemirror_mode": {
    "name": "ipython",
    "version": 3
   },
   "file_extension": ".py",
   "mimetype": "text/x-python",
   "name": "python",
   "nbconvert_exporter": "python",
   "pygments_lexer": "ipython3",
   "version": "3.12.3"
  }
 },
 "nbformat": 4,
 "nbformat_minor": 5
}
