{
 "cells": [
  {
   "cell_type": "markdown",
   "id": "4101ae18-9842-4470-b48e-7de9de02000b",
   "metadata": {
    "collapsed": true,
    "jupyter": {
     "outputs_hidden": true
    }
   },
   "source": [
    "# Feature Engineering Analysis\n",
    "\n",
    "This notebook analyzes technical indicators and features for cryptocurrency prediction.\n",
    "\n",
    "## Contents\n",
    "1. Setup and Data Loading\n",
    "2. Technical Indicators Calculation\n",
    "3. Feature Visualization\n",
    "4. Feature Importance Analysis\n",
    "5. Feature Selection\n",
    "6. Feature Engineering Pipeline Testing\n"
   ]
  },
  {
   "cell_type": "code",
   "execution_count": null,
   "id": "7b331519-bd2b-4627-b885-629d3662d0ae",
   "metadata": {},
   "outputs": [],
   "source": [
    "# Import required libraries\n",
    "import pandas as pd\n",
    "import numpy as np\n",
    "import plotly.graph_objects as go\n",
    "from plotly.subplots import make_subplots\n",
    "import seaborn as sns\n",
    "import matplotlib.pyplot as plt\n",
    "from sklearn.feature_selection import SelectKBest, f_regression\n",
    "from sklearn.preprocessing import MinMaxScaler\n",
    "\n",
    "# Import our feature engineering module\n",
    "from src.preprocessing.feature_engineering import FeatureEngineer\n"
   ]
  },
  {
   "cell_type": "markdown",
   "id": "8e5aff37-c905-40af-bf4c-3d35c3b02c2e",
   "metadata": {},
   "source": [
    "## 1. Setup and Data Loading\n"
   ]
  },
  {
   "cell_type": "code",
   "execution_count": null,
   "id": "f4c42f84-dd42-4886-b474-ba43f91fe28a",
   "metadata": {},
   "outputs": [],
   "source": [
    "# Load data from previous analysis\n",
    "data_path = 'data/raw/bitcoin_binance_latest.csv'\n",
    "df = pd.read_csv(data_path, index_col='timestamp', parse_dates=True)\n",
    "\n",
    "# Initialize feature engineer\n",
    "engineer = FeatureEngineer()\n",
    "\n",
    "# Display data info\n",
    "print(\"Data Shape:\", df.shape)\n",
    "df.head()\n"
   ]
  },
  {
   "cell_type": "markdown",
   "id": "cd9eaab9-d937-4e14-b4c4-1a1419b5396d",
   "metadata": {},
   "source": [
    "## 2. Technical Indicators Calculation\n"
   ]
  },
  {
   "cell_type": "code",
   "execution_count": null,
   "id": "09a08b6e-b935-47cb-a5e0-755da1096664",
   "metadata": {},
   "outputs": [],
   "source": [
    "def calculate_all_indicators(df):\n",
    "    \"\"\"Calculate all technical indicators\"\"\"\n",
    "    \n",
    "    # RSI\n",
    "    df['rsi'] = engineer.calculate_rsi(df['close'])\n",
    "    \n",
    "    # MACD\n",
    "    macd, signal, hist = engineer.calculate_macd(df['close'])\n",
    "    df['macd'] = macd\n",
    "    df['macd_signal'] = signal\n",
    "    df['macd_hist'] = hist\n",
    "    \n",
    "    # Bollinger Bands\n",
    "    bb_upper, bb_middle, bb_lower = engineer.calculate_bollinger_bands(df['close'])\n",
    "    df['bb_upper'] = bb_upper\n",
    "    df['bb_middle'] = bb_middle\n",
    "    df['bb_lower'] = bb_lower\n",
    "    \n",
    "    # Moving Averages\n",
    "    sma_20, sma_50 = engineer.calculate_moving_averages(df['close'])\n",
    "    df['sma_20'] = sma_20\n",
    "    df['sma_50'] = sma_50\n",
    "    \n",
    "    # Momentum\n",
    "    roc, momentum = engineer.calculate_momentum_indicators(df['close'])\n",
    "    df['roc'] = roc\n",
    "    df['momentum'] = momentum\n",
    "    \n",
    "    return df\n",
    "\n",
    "# Calculate indicators\n",
    "df_indicators = calculate_all_indicators(df.copy())\n",
    "df_indicators.head()\n"
   ]
  },
  {
   "cell_type": "markdown",
   "id": "995f24a0-ee9b-4771-be44-07ca6b3210ec",
   "metadata": {},
   "source": [
    "## 3. Feature Visualization\n"
   ]
  },
  {
   "cell_type": "code",
   "execution_count": null,
   "id": "1fa1538a-54dd-479d-a4b6-3f21caddca5b",
   "metadata": {},
   "outputs": [],
   "source": [
    "def plot_technical_indicators(df):\n",
    "    \"\"\"Plot technical indicators\"\"\"\n",
    "    fig = make_subplots(rows=4, cols=1,\n",
    "                        subplot_titles=('Price and Moving Averages',\n",
    "                                       'RSI',\n",
    "                                       'MACD',\n",
    "                                       'Bollinger Bands'))\n",
    "    \n",
    "    # Price and MAs\n",
    "    fig.add_trace(go.Scatter(x=df.index, y=df['close'], name='Price'), row=1, col=1)\n",
    "    fig.add_trace(go.Scatter(x=df.index, y=df['sma_20'], name='SMA20'), row=1, col=1)\n",
    "    fig.add_trace(go.Scatter(x=df.index, y=df['sma_50'], name='SMA50'), row=1, col=1)\n",
    "    \n",
    "    # RSI\n",
    "    fig.add_trace(go.Scatter(x=df.index, y=df['rsi'], name='RSI'), row=2, col=1)\n",
    "    fig.add_hline(y=70, line_dash='dash', line_color='red', row=2, col=1)\n",
    "    fig.add_hline(y=30, line_dash='dash', line_color='green', row=2, col=1)\n",
    "    \n",
    "    # MACD\n",
    "    fig.add_trace(go.Scatter(x=df.index, y=df['macd'], name='MACD'), row=3, col=1)\n",
    "    fig.add_trace(go.Scatter(x=df.index, y=df['macd_signal'], name='Signal'), row=3, col=1)\n",
    "    fig.add_trace(go.Bar(x=df.index, y=df['macd_hist'], name='Histogram'), row=3, col=1)\n",
    "    \n",
    "    # Bollinger Bands\n",
    "    fig.add_trace(go.Scatter(x=df.index, y=df['close'], name='Price'), row=4, col=1)\n",
    "    fig.add_trace(go.Scatter(x=df.index, y=df['bb_upper'], name='Upper BB'), row=4, col=1)\n",
    "    fig.add_trace(go.Scatter(x=df.index, y=df['bb_lower'], name='Lower BB'), row=4, col=1)\n",
    "    \n",
    "    fig.update_layout(height=1200, showlegend=True)\n",
    "    return fig\n",
    "\n",
    "fig = plot_technical_indicators(df_indicators)\n",
    "fig.show()\n"
   ]
  },
  {
   "cell_type": "markdown",
   "id": "4c83fd9c-6c89-4894-a349-1b2fb989a973",
   "metadata": {},
   "source": [
    "## 4. Feature Importance Analysis\n"
   ]
  },
  {
   "cell_type": "code",
   "execution_count": null,
   "id": "04d3b1bf-f1d1-4f89-bf0c-05d51117afed",
   "metadata": {},
   "outputs": [],
   "source": [
    "def analyze_feature_importance(df):\n",
    "    \"\"\"Analyze feature importance using different methods\"\"\"\n",
    "    # Prepare data\n",
    "    df = df.dropna()\n",
    "    \n",
    "    # Create target variable (next day's return)\n",
    "    target = df['close'].pct_change().shift(-1).dropna()\n",
    "    features = df.iloc[:-1]  # Remove last row to match target\n",
    "    \n",
    "    # Select features\n",
    "    feature_cols = ['rsi', 'macd', 'macd_signal', 'roc', 'momentum', 'volume']\n",
    "    X = features[feature_cols]\n",
    "    y = target\n",
    "    \n",
    "    # Calculate feature importance using f_regression\n",
    "    selector = SelectKBest(score_func=f_regression, k='all')\n",
    "    selector.fit(X, y)\n",
    "    \n",
    "    # Create importance DataFrame\n",
    "    importance_df = pd.DataFrame({\n",
    "        'feature': feature_cols,\n",
    "        'importance': selector.scores_\n",
    "    })\n",
    "    importance_df = importance_df.sort_values('importance', ascending=False)\n",
    "    \n",
    "    return importance_df\n",
    "\n",
    "importance_df = analyze_feature_importance(df_indicators)\n",
    "plt.figure(figsize=(10, 6))\n",
    "sns.barplot(x='importance', y='feature', data=importance_df)\n",
    "plt.title('Feature Importance Analysis')\n",
    "plt.show()\n"
   ]
  },
  {
   "cell_type": "markdown",
   "id": "f34862ca-f21e-4641-ae06-65a4dcdbfccf",
   "metadata": {},
   "source": [
    "## 5. Feature Selection\n"
   ]
  },
  {
   "cell_type": "code",
   "execution_count": null,
   "id": "57876488-a699-4d87-87f5-b81e7b6eae10",
   "metadata": {},
   "outputs": [],
   "source": [
    "def select_features(df, importance_df, threshold=0.5):\n",
    "    \"\"\"Select features based on importance threshold\"\"\"\n",
    "    # Normalize importance scores\n",
    "    max_importance = importance_df['importance'].max()\n",
    "    importance_df['normalized_importance'] = importance_df['importance'] / max_importance\n",
    "    \n",
    "    # Select features above threshold\n",
    "    selected_features = importance_df[\n",
    "        importance_df['normalized_importance'] > threshold\n",
    "    ]['feature'].tolist()\n",
    "    \n",
    "    return selected_features\n",
    "\n",
    "selected_features = select_features(df_indicators, importance_df)\n",
    "print(\"Selected features:\", selected_features)\n"
   ]
  },
  {
   "cell_type": "markdown",
   "id": "55567f27-fbf7-41a2-abe8-74310da7a4c4",
   "metadata": {},
   "source": [
    "## 6. Feature Engineering Pipeline Testing\n"
   ]
  },
  {
   "cell_type": "code",
   "execution_count": null,
   "id": "7ed00b40-d1bf-4903-973a-2eee4dbf3596",
   "metadata": {},
   "outputs": [],
   "source": [
    "def test_feature_pipeline(df, selected_features):\n",
    "    \"\"\"Test the complete feature engineering pipeline\"\"\"\n",
    "    # Create feature pipeline\n",
    "    pipeline_df = df.copy()\n",
    "    \n",
    "    # Calculate technical indicators\n",
    "    pipeline_df = calculate_all_indicators(pipeline_df)\n",
    "    \n",
    "    # Select features\n",
    "    pipeline_df = pipeline_df[selected_features].copy()\n",
    "    \n",
    "    # Scale features\n",
    "    scaler = MinMaxScaler()\n",
    "    scaled_features = scaler.fit_transform(pipeline_df)\n",
    "    pipeline_df = pd.DataFrame(\n",
    "        scaled_features,\n",
    "        columns=pipeline_df.columns,\n",
    "        index=pipeline_df.index\n",
    "    )\n",
    "    \n",
    "    return pipeline_df\n",
    "\n",
    "# Test pipeline\n",
    "final_features = test_feature_pipeline(df, selected_features)\n",
    "print(\"Final feature shape:\", final_features.shape)\n",
    "final_features.head()\n"
   ]
  }
 ],
 "metadata": {
  "kernelspec": {
   "display_name": "Python 3 (ipykernel)",
   "language": "python",
   "name": "python3"
  },
  "language_info": {
   "codemirror_mode": {
    "name": "ipython",
    "version": 3
   },
   "file_extension": ".py",
   "mimetype": "text/x-python",
   "name": "python",
   "nbconvert_exporter": "python",
   "pygments_lexer": "ipython3",
   "version": "3.12.3"
  }
 },
 "nbformat": 4,
 "nbformat_minor": 5
}
